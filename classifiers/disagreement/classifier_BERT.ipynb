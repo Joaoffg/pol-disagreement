{
 "cells": [
  {
   "cell_type": "code",
   "execution_count": 1,
   "metadata": {},
   "outputs": [],
   "source": [
    "import ktrain\n",
    "from ktrain import text\n",
    "import pandas as pd\n",
    "from pandas import DataFrame"
   ]
  },
  {
   "cell_type": "code",
   "execution_count": 3,
   "metadata": {},
   "outputs": [
    {
     "name": "stdout",
     "output_type": "stream",
     "text": [
      "detected encoding: utf-8 (if wrong, set manually)\n",
      "preprocessing train...\n",
      "language: en\n"
     ]
    },
    {
     "data": {
      "text/html": [
       "done."
      ],
      "text/plain": [
       "<IPython.core.display.HTML object>"
      ]
     },
     "metadata": {},
     "output_type": "display_data"
    },
    {
     "name": "stdout",
     "output_type": "stream",
     "text": [
      "Is Multi-Label? False\n",
      "preprocessing test...\n",
      "language: en\n"
     ]
    },
    {
     "data": {
      "text/html": [
       "done."
      ],
      "text/plain": [
       "<IPython.core.display.HTML object>"
      ]
     },
     "metadata": {},
     "output_type": "display_data"
    }
   ],
   "source": [
    "(x_train, y_train), (x_test, y_test), preproc = text.texts_from_csv('disagreement_single_BERT_balanced_2.csv',\n",
    "                      label_columns = [\"label\"],\n",
    "                      text_column = \"text\",\n",
    "                      preprocess_mode='bert',\n",
    "                      ngram_range=1,\n",
    "                      val_pct=0.1,\n",
    "                      val_filepath=None,\n",
    "                      maxlen=256)"
   ]
  },
  {
   "cell_type": "code",
   "execution_count": 4,
   "metadata": {},
   "outputs": [
    {
     "name": "stdout",
     "output_type": "stream",
     "text": [
      "Is Multi-Label? False\n",
      "maxlen is 256\n",
      "done.\n"
     ]
    }
   ],
   "source": [
    "learner = ktrain.get_learner(text.text_classifier('bert', (x_train, y_train), preproc=preproc, metrics = ['accuracy','AUC']),\n",
    "                             train_data=(x_train, y_train),\n",
    "                             val_data=(x_test, y_test),\n",
    "                             batch_size=12)"
   ]
  },
  {
   "cell_type": "code",
   "execution_count": 5,
   "metadata": {
    "scrolled": true
   },
   "outputs": [
    {
     "name": "stdout",
     "output_type": "stream",
     "text": [
      "simulating training for different learning rates... this may take a few moments...\n",
      "Train on 606 samples\n",
      "Epoch 1/5\n",
      "606/606 [==============================] - 110s 181ms/sample - loss: 0.7042 - accuracy: 0.5314 - AUC: 0.5759\n",
      "Epoch 2/5\n",
      "606/606 [==============================] - 71s 116ms/sample - loss: 0.6265 - accuracy: 0.6667 - AUC: 0.7140\n",
      "Epoch 3/5\n",
      "606/606 [==============================] - 70s 115ms/sample - loss: 0.7645 - accuracy: 0.5743 - AUC: 0.6368\n",
      "Epoch 4/5\n",
      "396/606 [==================>...........] - ETA: 23s - loss: 3.4823 - accuracy: 0.5076 - AUC: 0.5031\n",
      "\n",
      "done.\n",
      "Visually inspect loss plot and select learning rate associated with falling loss\n"
     ]
    },
    {
     "data": {
      "image/png": "[encoded data removed]",
      "text/plain": [
       "<Figure size 432x288 with 1 Axes>"
      ]
     },
     "metadata": {
      "needs_background": "light"
     },
     "output_type": "display_data"
    }
   ],
   "source": [
    "learner.lr_find(show_plot=True, max_epochs=5)"
   ]
  },
  {
   "cell_type": "code",
   "execution_count": 6,
   "metadata": {
    "scrolled": true
   },
   "outputs": [
    {
     "name": "stdout",
     "output_type": "stream",
     "text": [
      "early_stopping automatically enabled at patience=5\n",
      "reduce_on_plateau automatically enabled at patience=2\n",
      "\n",
      "\n",
      "begin training using triangular learning rate policy with max lr of 2e-05...\n",
      "Train on 606 samples, validate on 68 samples\n",
      "Epoch 1/1024\n",
      "606/606 [==============================] - 76s 126ms/sample - loss: 0.6165 - accuracy: 0.6568 - AUC: 0.7234 - val_loss: 0.4634 - val_accuracy: 0.7647 - val_AUC: 0.8868\n",
      "Epoch 2/1024\n",
      "606/606 [==============================] - 73s 121ms/sample - loss: 0.4310 - accuracy: 0.8102 - AUC: 0.8922 - val_loss: 0.4208 - val_accuracy: 0.7794 - val_AUC: 0.8945\n",
      "Epoch 3/1024\n",
      "606/606 [==============================] - 72s 119ms/sample - loss: 0.3075 - accuracy: 0.8960 - AUC: 0.9425 - val_loss: 0.6617 - val_accuracy: 0.7794 - val_AUC: 0.7889\n",
      "Epoch 4/1024\n",
      "600/606 [============================>.] - ETA: 0s - loss: 0.1608 - accuracy: 0.9583 - AUC: 0.9866\n",
      "Epoch 00004: Reducing Max LR on Plateau: new max lr will be 1e-05 (if not early_stopping).\n",
      "606/606 [==============================] - 72s 119ms/sample - loss: 0.1611 - accuracy: 0.9571 - AUC: 0.9867 - val_loss: 0.5049 - val_accuracy: 0.7941 - val_AUC: 0.8635\n",
      "Epoch 5/1024\n",
      "606/606 [==============================] - 72s 119ms/sample - loss: 0.0708 - accuracy: 0.9901 - AUC: 0.9976 - val_loss: 0.4849 - val_accuracy: 0.7647 - val_AUC: 0.8774\n",
      "Epoch 6/1024\n",
      "600/606 [============================>.] - ETA: 0s - loss: 0.0518 - accuracy: 0.9933 - AUC: 0.9995\n",
      "Epoch 00006: Reducing Max LR on Plateau: new max lr will be 5e-06 (if not early_stopping).\n",
      "606/606 [==============================] - 73s 120ms/sample - loss: 0.0521 - accuracy: 0.9934 - AUC: 0.9995 - val_loss: 0.5291 - val_accuracy: 0.7794 - val_AUC: 0.8590\n",
      "Epoch 7/1024\n",
      "600/606 [============================>.] - ETA: 0s - loss: 0.0379 - accuracy: 0.9950 - AUC: 0.9999Restoring model weights from the end of the best epoch.\n",
      "606/606 [==============================] - 72s 119ms/sample - loss: 0.0378 - accuracy: 0.9950 - AUC: 0.9999 - val_loss: 0.5662 - val_accuracy: 0.7941 - val_AUC: 0.8644\n",
      "Epoch 00007: early stopping\n",
      "Weights from best epoch have been loaded into model.\n"
     ]
    },
    {
     "data": {
      "text/plain": [
       "<tensorflow.python.keras.callbacks.History at 0x7f5bfc2e9150>"
      ]
     },
     "execution_count": 6,
     "metadata": {},
     "output_type": "execute_result"
    }
   ],
   "source": [
    "learner.autofit(2e-5)"
   ]
  },
  {
   "cell_type": "code",
   "execution_count": 7,
   "metadata": {},
   "outputs": [
    {
     "name": "stdout",
     "output_type": "stream",
     "text": [
      "              precision    recall  f1-score   support\n",
      "\n",
      "           0       0.79      0.72      0.75        32\n",
      "           1       0.77      0.83      0.80        36\n",
      "\n",
      "    accuracy                           0.78        68\n",
      "   macro avg       0.78      0.78      0.78        68\n",
      "weighted avg       0.78      0.78      0.78        68\n",
      "\n"
     ]
    },
    {
     "data": {
      "text/plain": [
       "array([[23,  9],\n",
       "       [ 6, 30]])"
      ]
     },
     "execution_count": 7,
     "metadata": {},
     "output_type": "execute_result"
    }
   ],
   "source": [
    "learner.validate(val_data=(x_test, y_test))"
   ]
  },
  {
   "cell_type": "code",
   "execution_count": null,
   "metadata": {},
   "outputs": [],
   "source": [
    "learner.model.save('models_sigstaff')"
   ]
  },
  {
   "cell_type": "code",
   "execution_count": null,
   "metadata": {},
   "outputs": [],
   "source": [
    "learner.model.save_weights('models_sigstaff')"
   ]
  },
  {
   "cell_type": "code",
   "execution_count": null,
   "metadata": {},
   "outputs": [],
   "source": [
    "predictor = ktrain.get_predictor(learner.model, preproc)"
   ]
  },
  {
   "cell_type": "code",
   "execution_count": null,
   "metadata": {},
   "outputs": [],
   "source": [
    "db = pd.read_csv('data_forBERT_clean.csv', header=0)"
   ]
  },
  {
   "cell_type": "code",
   "execution_count": null,
   "metadata": {},
   "outputs": [],
   "source": [
    "predictions = predictor.predict(db.text.tolist())"
   ]
  },
  {
   "cell_type": "code",
   "execution_count": null,
   "metadata": {},
   "outputs": [],
   "source": [
    "predictions_list = DataFrame(predictions, columns=['label'])"
   ]
  },
  {
   "cell_type": "code",
   "execution_count": null,
   "metadata": {},
   "outputs": [],
   "source": [
    "predictions_list.to_csv(\"sigstaff_preds.csv\")"
   ]
  },
  {
   "cell_type": "code",
   "execution_count": null,
   "metadata": {},
   "outputs": [],
   "source": []
  }
 ],
 "metadata": {
  "kernelspec": {
   "display_name": "py37_tensorflow",
   "language": "python",
   "name": "py37_tensorflow"
  },
  "language_info": {
   "codemirror_mode": {
    "name": "ipython",
    "version": 3
   },
   "file_extension": ".py",
   "mimetype": "text/x-python",
   "name": "python",
   "nbconvert_exporter": "python",
   "pygments_lexer": "ipython3",
   "version": "3.7.7"
  }
 },
 "nbformat": 4,
 "nbformat_minor": 4
}
